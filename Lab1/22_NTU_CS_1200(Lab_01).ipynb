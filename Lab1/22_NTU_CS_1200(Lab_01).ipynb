{
  "cells": [
    {
      "cell_type": "code",
      "execution_count": null,
      "metadata": {},
      "outputs": [],
      "source": [
        "%pip install pandas"
      ]
    },
    {
      "cell_type": "markdown",
      "metadata": {},
      "source": [
        "**Task 1**"
      ]
    },
    {
      "cell_type": "code",
      "execution_count": 3,
      "metadata": {
        "colab": {
          "base_uri": "https://localhost:8080/"
        },
        "id": "OSBMq7fzszUy",
        "outputId": "8f2986cf-36bc-4142-da81-6b3d0f26d71e"
      },
      "outputs": [
        {
          "name": "stdout",
          "output_type": "stream",
          "text": [
            "Manual Data\n",
            "\n",
            "       Name  Age        city  Salary\n",
            "0     Alice   23      Lahore   40000\n",
            "1     bilal   45  Faisalabad   50000\n",
            "2  Abdullah   67     Karachi   60000\n",
            "3    junaid   14      Multan   70000\n"
          ]
        }
      ],
      "source": [
        "import pandas as pd\n",
        "data = {\n",
        "    'Name':['Alice','bilal','Abdullah','junaid'],\n",
        "    'Age':[23,45,67,14],\n",
        "    'city':['Lahore','Faisalabad','Karachi','Multan'],\n",
        "    'Salary':[40000,50000,60000,70000]\n",
        "}\n",
        "\n",
        "df=pd.DataFrame(data)\n",
        "print(\"Manual Data\\n\")\n",
        "print(df)"
      ]
    },
    {
      "cell_type": "markdown",
      "metadata": {},
      "source": [
        "**Task 2**"
      ]
    },
    {
      "cell_type": "code",
      "execution_count": 9,
      "metadata": {
        "colab": {
          "base_uri": "https://localhost:8080/"
        },
        "id": "xkbrGOrdqCze",
        "outputId": "821a6f6d-6827-41ed-802d-ec30dc34d808"
      },
      "outputs": [
        {
          "name": "stdout",
          "output_type": "stream",
          "text": [
            "         Date Country/Region Province/State  Confirmed  Recovered  Deaths\n",
            "0  2020-01-22    Afghanistan            NaN          0        0.0       0\n",
            "1  2020-01-23    Afghanistan            NaN          0        0.0       0\n",
            "2  2020-01-24    Afghanistan            NaN          0        0.0       0\n",
            "3  2020-01-25    Afghanistan            NaN          0        0.0       0\n",
            "4  2020-01-26    Afghanistan            NaN          0        0.0       0\n"
          ]
        }
      ],
      "source": [
        "import pandas as pd\n",
        "\n",
        "data_url='https://raw.githubusercontent.com/datasets/covid-19/master/data/time-series-19-covid-combined.csv'\n",
        "df=pd.read_csv(data_url)\n",
        "print(df.head())\n"
      ]
    },
    {
      "cell_type": "code",
      "execution_count": null,
      "metadata": {},
      "outputs": [],
      "source": [
        "%pip install numpy\n"
      ]
    },
    {
      "cell_type": "markdown",
      "metadata": {},
      "source": [
        "**Task 3**"
      ]
    },
    {
      "cell_type": "code",
      "execution_count": 7,
      "metadata": {
        "colab": {
          "base_uri": "https://localhost:8080/",
          "height": 206
        },
        "id": "YAZDQ65Cqni5",
        "outputId": "07282b25-1f02-4b58-e505-9f515666ac50"
      },
      "outputs": [
        {
          "data": {
            "text/html": [
              "<div>\n",
              "<style scoped>\n",
              "    .dataframe tbody tr th:only-of-type {\n",
              "        vertical-align: middle;\n",
              "    }\n",
              "\n",
              "    .dataframe tbody tr th {\n",
              "        vertical-align: top;\n",
              "    }\n",
              "\n",
              "    .dataframe thead th {\n",
              "        text-align: right;\n",
              "    }\n",
              "</style>\n",
              "<table border=\"1\" class=\"dataframe\">\n",
              "  <thead>\n",
              "    <tr style=\"text-align: right;\">\n",
              "      <th></th>\n",
              "      <th>ID</th>\n",
              "      <th>score</th>\n",
              "      <th>Height</th>\n",
              "      <th>Weight</th>\n",
              "    </tr>\n",
              "  </thead>\n",
              "  <tbody>\n",
              "    <tr>\n",
              "      <th>0</th>\n",
              "      <td>1</td>\n",
              "      <td>88</td>\n",
              "      <td>151.2</td>\n",
              "      <td>64.9</td>\n",
              "    </tr>\n",
              "    <tr>\n",
              "      <th>1</th>\n",
              "      <td>2</td>\n",
              "      <td>78</td>\n",
              "      <td>156.3</td>\n",
              "      <td>73.7</td>\n",
              "    </tr>\n",
              "    <tr>\n",
              "      <th>2</th>\n",
              "      <td>3</td>\n",
              "      <td>64</td>\n",
              "      <td>176.4</td>\n",
              "      <td>61.4</td>\n",
              "    </tr>\n",
              "    <tr>\n",
              "      <th>3</th>\n",
              "      <td>4</td>\n",
              "      <td>92</td>\n",
              "      <td>160.9</td>\n",
              "      <td>70.6</td>\n",
              "    </tr>\n",
              "    <tr>\n",
              "      <th>4</th>\n",
              "      <td>5</td>\n",
              "      <td>57</td>\n",
              "      <td>174.8</td>\n",
              "      <td>75.0</td>\n",
              "    </tr>\n",
              "  </tbody>\n",
              "</table>\n",
              "</div>"
            ],
            "text/plain": [
              "   ID  score  Height  Weight\n",
              "0   1     88   151.2    64.9\n",
              "1   2     78   156.3    73.7\n",
              "2   3     64   176.4    61.4\n",
              "3   4     92   160.9    70.6\n",
              "4   5     57   174.8    75.0"
            ]
          },
          "execution_count": 7,
          "metadata": {},
          "output_type": "execute_result"
        }
      ],
      "source": [
        "import pandas as pd\n",
        "import numpy as np\n",
        "\n",
        "np.random.seed(42)\n",
        "data={\n",
        "    'ID':range(1,101),\n",
        "    'score':np.random.randint(50,100,100),\n",
        "    'Height':np.random.normal(170,10,100).round(1),\n",
        "    'Weight':np.random.normal(70,5,100).round(1)\n",
        "\n",
        "\n",
        "}\n",
        "\n",
        "df=pd.DataFrame(data)\n",
        "df.head()"
      ]
    },
    {
      "cell_type": "markdown",
      "metadata": {},
      "source": [
        "**Task 4**"
      ]
    },
    {
      "cell_type": "code",
      "execution_count": 6,
      "metadata": {
        "colab": {
          "base_uri": "https://localhost:8080/"
        },
        "id": "P6tdgZm3sdY_",
        "outputId": "792c52be-e0c9-41a4-950c-5959d38f0d09"
      },
      "outputs": [
        {
          "name": "stdout",
          "output_type": "stream",
          "text": [
            "Original Data Frame:\n",
            "\n",
            "     A     B     C\n",
            "0  1.0   6.0  11.0\n",
            "1  2.0   NaN  12.0\n",
            "2  NaN   8.0  13.0\n",
            "3  4.0   9.0   NaN\n",
            "4  5.0  10.0  15.0\n"
          ]
        }
      ],
      "source": [
        "from sklearn.preprocessing import LabelEncoder\n",
        "\n",
        "data={\n",
        "    'A':[1,2,None,4,5],\n",
        "    'B':[6,None, 8,9,10],\n",
        "    'C':[11,12,13,None,15]\n",
        "}\n",
        "\n",
        "df2=pd.DataFrame(data)\n",
        "print(\"Original Data Frame:\\n\")\n",
        "print(df2)"
      ]
    },
    {
      "cell_type": "code",
      "execution_count": null,
      "metadata": {},
      "outputs": [],
      "source": [
        "%pip install scikit-learn"
      ]
    },
    {
      "cell_type": "markdown",
      "metadata": {},
      "source": [
        "**Task 5**"
      ]
    },
    {
      "cell_type": "code",
      "execution_count": 8,
      "metadata": {
        "colab": {
          "base_uri": "https://localhost:8080/"
        },
        "id": "7dFWPZY-ui_D",
        "outputId": "75fee6e2-a79b-42d3-aa8a-dea68e60a1d1"
      },
      "outputs": [
        {
          "name": "stdout",
          "output_type": "stream",
          "text": [
            "\n",
            "Encoded Types\n",
            "Type\n",
            "1    2\n",
            "2    2\n",
            "3    1\n",
            "dtype: int64\n"
          ]
        }
      ],
      "source": [
        "mapping={'h':1,'u':2,'t':3}\n",
        "features=pd.DataFrame({'Type':['h','u','t','h','u']})\n",
        "features['Type']=features['Type'].map(mapping)\n",
        "print(\"\\nEncoded Types\")\n",
        "print(features.groupby('Type').size())\n"
      ]
    },
    {
      "cell_type": "markdown",
      "metadata": {},
      "source": [
        "**Task 6**"
      ]
    },
    {
      "cell_type": "code",
      "execution_count": 1,
      "metadata": {},
      "outputs": [
        {
          "name": "stdout",
          "output_type": "stream",
          "text": [
            "\n",
            "Label Encoded Region \n",
            "\n",
            "Regionname  Region\n",
            "East        0         2\n",
            "North       1         1\n",
            "South       2         1\n",
            "West        3         1\n",
            "Name: count, dtype: int64\n"
          ]
        }
      ],
      "source": [
        "from sklearn.preprocessing import LabelEncoder\n",
        "import pandas as pd\n",
        "\n",
        "features_df=pd.DataFrame({'Regionname':['East','West','North','South','East']})\n",
        "\n",
        "le=LabelEncoder()\n",
        "\n",
        "features_df['Region']=le.fit_transform(features_df['Regionname'])\n",
        "\n",
        "\n",
        "print(\"\\nLabel Encoded Region \\n\")\n",
        "print(features_df.value_counts())"
      ]
    },
    {
      "cell_type": "markdown",
      "metadata": {},
      "source": [
        "**Task 7**"
      ]
    },
    {
      "cell_type": "code",
      "execution_count": 2,
      "metadata": {
        "id": "mFur90iQwQg6"
      },
      "outputs": [
        {
          "name": "stdout",
          "output_type": "stream",
          "text": [
            "\n",
            "One-Hot Encoded DataFrame\n",
            "\n",
            "method_method1  method_method2  method_method3\n",
            "False           True            False             2\n",
            "True            False           False             2\n",
            "False           False           True              1\n",
            "Name: count, dtype: int64\n"
          ]
        }
      ],
      "source": [
        "features=pd.DataFrame({\n",
        "            'method':['method1','method2','method1','method3','method2']})\n",
        "df_one_hot=pd.get_dummies(features,columns=['method'])\n",
        "\n",
        "print(\"\\nOne-Hot Encoded DataFrame\\n\")\n",
        "print(df_one_hot.value_counts())"
      ]
    },
    {
      "cell_type": "markdown",
      "metadata": {},
      "source": [
        "**Task 8**"
      ]
    },
    {
      "cell_type": "code",
      "execution_count": 5,
      "metadata": {},
      "outputs": [
        {
          "data": {
            "image/png": "[encoded data removed]",
            "text/plain": [
              "<Figure size 640x480 with 1 Axes>"
            ]
          },
          "metadata": {},
          "output_type": "display_data"
        }
      ],
      "source": [
        "import matplotlib.pyplot as plt\n",
        "\n",
        "data=[10,12,11,13,13,14,70,13,100]\n",
        "\n",
        "plt.boxplot(data)\n",
        "plt.title(\"Show outliers\")\n",
        "plt.show()\n"
      ]
    },
    {
      "cell_type": "code",
      "execution_count": null,
      "metadata": {},
      "outputs": [],
      "source": [
        "%pip install matplotlib"
      ]
    },
    {
      "cell_type": "markdown",
      "metadata": {},
      "source": [
        "**ACTIVITY 1**"
      ]
    },
    {
      "cell_type": "code",
      "execution_count": 6,
      "metadata": {},
      "outputs": [
        {
          "data": {
            "text/html": [
              "<div>\n",
              "<style scoped>\n",
              "    .dataframe tbody tr th:only-of-type {\n",
              "        vertical-align: middle;\n",
              "    }\n",
              "\n",
              "    .dataframe tbody tr th {\n",
              "        vertical-align: top;\n",
              "    }\n",
              "\n",
              "    .dataframe thead th {\n",
              "        text-align: right;\n",
              "    }\n",
              "</style>\n",
              "<table border=\"1\" class=\"dataframe\">\n",
              "  <thead>\n",
              "    <tr style=\"text-align: right;\">\n",
              "      <th></th>\n",
              "      <th>Province</th>\n",
              "      <th>Population (millions)</th>\n",
              "      <th>Literacy Rate (%)</th>\n",
              "      <th>Region</th>\n",
              "    </tr>\n",
              "  </thead>\n",
              "  <tbody>\n",
              "    <tr>\n",
              "      <th>0</th>\n",
              "      <td>Punjab</td>\n",
              "      <td>110.0</td>\n",
              "      <td>64.0</td>\n",
              "      <td>East</td>\n",
              "    </tr>\n",
              "    <tr>\n",
              "      <th>1</th>\n",
              "      <td>Sindh</td>\n",
              "      <td>47.0</td>\n",
              "      <td>58.0</td>\n",
              "      <td>South</td>\n",
              "    </tr>\n",
              "    <tr>\n",
              "      <th>2</th>\n",
              "      <td>Khyber Pakhtunkhwa</td>\n",
              "      <td>35.0</td>\n",
              "      <td>NaN</td>\n",
              "      <td>North</td>\n",
              "    </tr>\n",
              "    <tr>\n",
              "      <th>3</th>\n",
              "      <td>Balochistan</td>\n",
              "      <td>NaN</td>\n",
              "      <td>46.0</td>\n",
              "      <td>West</td>\n",
              "    </tr>\n",
              "  </tbody>\n",
              "</table>\n",
              "</div>"
            ],
            "text/plain": [
              "             Province  Population (millions)  Literacy Rate (%) Region\n",
              "0              Punjab                  110.0               64.0   East\n",
              "1               Sindh                   47.0               58.0  South\n",
              "2  Khyber Pakhtunkhwa                   35.0                NaN  North\n",
              "3         Balochistan                    NaN               46.0   West"
            ]
          },
          "execution_count": 6,
          "metadata": {},
          "output_type": "execute_result"
        }
      ],
      "source": [
        "##1\n",
        "import pandas as pd\n",
        "data = {\n",
        "    \"Province\": [\"Punjab\", \"Sindh\", \"Khyber Pakhtunkhwa\", \"Balochistan\"],\n",
        "    \"Population (millions)\": [110, 47, 35, None],  \n",
        "    \"Literacy Rate (%)\": [64, 58, None, 46],       \n",
        "    \"Region\": [\"East\", \"South\", \"North\", \"West\"]\n",
        "}\n",
        "\n",
        "\n",
        "df=pd.DataFrame(data)\n",
        "df"
      ]
    },
    {
      "cell_type": "code",
      "execution_count": 9,
      "metadata": {},
      "outputs": [],
      "source": [
        "##2\n",
        "df.isnull().sum()\n",
        "\n",
        "df=df.dropna(subset=['Population (millions)'])\n",
        "\n",
        "median_lit=df['Literacy Rate (%)'].median()\n",
        "df.loc[:,'Literacy Rate (%)']=df['Literacy Rate (%)'].fillna(median_lit)\n"
      ]
    },
    {
      "cell_type": "code",
      "execution_count": 10,
      "metadata": {},
      "outputs": [],
      "source": [
        "from sklearn.preprocessing import LabelEncoder\n",
        "le=LabelEncoder()\n",
        "\n",
        "df.loc[:,'Region_Label']=le.fit_transform(df['Region'])"
      ]
    },
    {
      "cell_type": "code",
      "execution_count": 11,
      "metadata": {},
      "outputs": [
        {
          "data": {
            "text/html": [
              "<div>\n",
              "<style scoped>\n",
              "    .dataframe tbody tr th:only-of-type {\n",
              "        vertical-align: middle;\n",
              "    }\n",
              "\n",
              "    .dataframe tbody tr th {\n",
              "        vertical-align: top;\n",
              "    }\n",
              "\n",
              "    .dataframe thead th {\n",
              "        text-align: right;\n",
              "    }\n",
              "</style>\n",
              "<table border=\"1\" class=\"dataframe\">\n",
              "  <thead>\n",
              "    <tr style=\"text-align: right;\">\n",
              "      <th></th>\n",
              "      <th>Province</th>\n",
              "      <th>Population (millions)</th>\n",
              "      <th>Literacy Rate (%)</th>\n",
              "      <th>Region</th>\n",
              "      <th>Region_Label</th>\n",
              "    </tr>\n",
              "  </thead>\n",
              "  <tbody>\n",
              "    <tr>\n",
              "      <th>0</th>\n",
              "      <td>Punjab</td>\n",
              "      <td>110.0</td>\n",
              "      <td>64.0</td>\n",
              "      <td>East</td>\n",
              "      <td>0</td>\n",
              "    </tr>\n",
              "    <tr>\n",
              "      <th>1</th>\n",
              "      <td>Sindh</td>\n",
              "      <td>47.0</td>\n",
              "      <td>58.0</td>\n",
              "      <td>South</td>\n",
              "      <td>2</td>\n",
              "    </tr>\n",
              "    <tr>\n",
              "      <th>2</th>\n",
              "      <td>Khyber Pakhtunkhwa</td>\n",
              "      <td>35.0</td>\n",
              "      <td>61.0</td>\n",
              "      <td>North</td>\n",
              "      <td>1</td>\n",
              "    </tr>\n",
              "  </tbody>\n",
              "</table>\n",
              "</div>"
            ],
            "text/plain": [
              "             Province  Population (millions)  Literacy Rate (%) Region  \\\n",
              "0              Punjab                  110.0               64.0   East   \n",
              "1               Sindh                   47.0               58.0  South   \n",
              "2  Khyber Pakhtunkhwa                   35.0               61.0  North   \n",
              "\n",
              "   Region_Label  \n",
              "0             0  \n",
              "1             2  \n",
              "2             1  "
            ]
          },
          "execution_count": 11,
          "metadata": {},
          "output_type": "execute_result"
        }
      ],
      "source": [
        "df"
      ]
    },
    {
      "cell_type": "code",
      "execution_count": 12,
      "metadata": {},
      "outputs": [],
      "source": [
        "df=pd.get_dummies(df,columns=['Region']).copy()\n"
      ]
    },
    {
      "cell_type": "code",
      "execution_count": 13,
      "metadata": {},
      "outputs": [
        {
          "data": {
            "text/html": [
              "<div>\n",
              "<style scoped>\n",
              "    .dataframe tbody tr th:only-of-type {\n",
              "        vertical-align: middle;\n",
              "    }\n",
              "\n",
              "    .dataframe tbody tr th {\n",
              "        vertical-align: top;\n",
              "    }\n",
              "\n",
              "    .dataframe thead th {\n",
              "        text-align: right;\n",
              "    }\n",
              "</style>\n",
              "<table border=\"1\" class=\"dataframe\">\n",
              "  <thead>\n",
              "    <tr style=\"text-align: right;\">\n",
              "      <th></th>\n",
              "      <th>Province</th>\n",
              "      <th>Population (millions)</th>\n",
              "      <th>Literacy Rate (%)</th>\n",
              "      <th>Region_Label</th>\n",
              "      <th>Region_East</th>\n",
              "      <th>Region_North</th>\n",
              "      <th>Region_South</th>\n",
              "    </tr>\n",
              "  </thead>\n",
              "  <tbody>\n",
              "    <tr>\n",
              "      <th>0</th>\n",
              "      <td>Punjab</td>\n",
              "      <td>110.0</td>\n",
              "      <td>64.0</td>\n",
              "      <td>0</td>\n",
              "      <td>True</td>\n",
              "      <td>False</td>\n",
              "      <td>False</td>\n",
              "    </tr>\n",
              "    <tr>\n",
              "      <th>1</th>\n",
              "      <td>Sindh</td>\n",
              "      <td>47.0</td>\n",
              "      <td>58.0</td>\n",
              "      <td>2</td>\n",
              "      <td>False</td>\n",
              "      <td>False</td>\n",
              "      <td>True</td>\n",
              "    </tr>\n",
              "    <tr>\n",
              "      <th>2</th>\n",
              "      <td>Khyber Pakhtunkhwa</td>\n",
              "      <td>35.0</td>\n",
              "      <td>61.0</td>\n",
              "      <td>1</td>\n",
              "      <td>False</td>\n",
              "      <td>True</td>\n",
              "      <td>False</td>\n",
              "    </tr>\n",
              "  </tbody>\n",
              "</table>\n",
              "</div>"
            ],
            "text/plain": [
              "             Province  Population (millions)  Literacy Rate (%)  Region_Label  \\\n",
              "0              Punjab                  110.0               64.0             0   \n",
              "1               Sindh                   47.0               58.0             2   \n",
              "2  Khyber Pakhtunkhwa                   35.0               61.0             1   \n",
              "\n",
              "   Region_East  Region_North  Region_South  \n",
              "0         True         False         False  \n",
              "1        False         False          True  \n",
              "2        False          True         False  "
            ]
          },
          "execution_count": 13,
          "metadata": {},
          "output_type": "execute_result"
        }
      ],
      "source": [
        "df"
      ]
    },
    {
      "cell_type": "code",
      "execution_count": 14,
      "metadata": {},
      "outputs": [
        {
          "data": {
            "image/png": "[encoded data removed]",
            "text/plain": [
              "<Figure size 1000x600 with 1 Axes>"
            ]
          },
          "metadata": {},
          "output_type": "display_data"
        }
      ],
      "source": [
        "import matplotlib.pyplot as plt\n",
        "\n",
        "plt.figure(figsize=(10,6))\n",
        "plt.scatter(df['Population (millions)'],df['Literacy Rate (%)'],c='blue',s=100)\n",
        "\n",
        "for i in range(len(df)):\n",
        "    x = df[\"Population (millions)\"].iloc[i]\n",
        "    y = df[\"Literacy Rate (%)\"].iloc[i]\n",
        "    name = df[\"Province\"].iloc[i]\n",
        "    plt.text(x + 1, y, name, fontsize=10)  \n",
        "\n",
        "plt.title(\"Population VS Literacy Rate\")\n",
        "plt.xlabel(\"Population (millions)\")\n",
        "plt.ylabel(\"Literacy Rate (%)\")\n",
        "plt.show()"
      ]
    },
    {
      "cell_type": "code",
      "execution_count": 15,
      "metadata": {},
      "outputs": [
        {
          "data": {
            "image/png": "[encoded data removed]",
            "text/plain": [
              "<Figure size 600x500 with 1 Axes>"
            ]
          },
          "metadata": {},
          "output_type": "display_data"
        }
      ],
      "source": [
        "plt.figure(figsize=(6,5))\n",
        "plt.boxplot(df[\"Literacy Rate (%)\"], vert=True, patch_artist=True)\n",
        "for i, row in df.iterrows():\n",
        "    plt.scatter(1, row[\"Literacy Rate (%)\"], label=row[\"Province\"])\n",
        "\n",
        "plt.title(\"Boxplot of Literacy Rate (%)\")\n",
        "plt.ylabel(\"Literacy Rate (%)\")\n",
        "plt.legend()\n",
        "plt.show()"
      ]
    },
    {
      "cell_type": "markdown",
      "metadata": {},
      "source": [
        "**Activity 2**"
      ]
    },
    {
      "cell_type": "code",
      "execution_count": 16,
      "metadata": {},
      "outputs": [
        {
          "data": {
            "image/png": "[encoded data removed]",
            "text/plain": [
              "<Figure size 700x500 with 1 Axes>"
            ]
          },
          "metadata": {},
          "output_type": "display_data"
        },
        {
          "data": {
            "image/png": "[encoded data removed]",
            "text/plain": [
              "<Figure size 700x500 with 1 Axes>"
            ]
          },
          "metadata": {},
          "output_type": "display_data"
        },
        {
          "name": "stdout",
          "output_type": "stream",
          "text": [
            "Outlier Students in Total Score:\n",
            " Empty DataFrame\n",
            "Columns: [ID, Total, Grade]\n",
            "Index: []\n",
            "\n",
            "Average Total Score by Grade:\n",
            " Grade\n",
            "C    188.416374\n",
            "A    186.080972\n",
            "B    183.813464\n",
            "Name: Total, dtype: float64\n"
          ]
        }
      ],
      "source": [
        "import pandas as pd\n",
        "import numpy as np\n",
        "import matplotlib.pyplot as plt\n",
        "from sklearn.preprocessing import LabelEncoder\n",
        "\n",
        "np.random.seed(42)\n",
        "\n",
        "data = {\n",
        "    \"ID\": range(1, 101),\n",
        "    \"Math\": np.random.randint(30, 100, 100).astype(float),\n",
        "    \"Science\": np.random.randint(35, 95, 100).astype(float),\n",
        "    \"English\": np.random.randint(25, 90, 100).astype(float),\n",
        "    \"Grade\": np.random.choice([\"A\", \"B\", \"C\"], 100, p=[0.3, 0.5, 0.2])\n",
        "}\n",
        "df = pd.DataFrame(data)\n",
        "\n",
        "for col in [\"Math\", \"Science\", \"English\"]:\n",
        "    df.loc[np.random.choice(df.index, 5, replace=False), col] = np.nan\n",
        "\n",
        "df.fillna(df.mean(numeric_only=True), inplace=True)\n",
        "\n",
        "le = LabelEncoder()\n",
        "df[\"Grade_encoded\"] = le.fit_transform(df[\"Grade\"])\n",
        "\n",
        "plt.figure(figsize=(7,5))\n",
        "plt.hist(df[\"Math\"], bins=10, color=\"skyblue\", edgecolor=\"black\")\n",
        "plt.title(\"Histogram of Math Scores\")\n",
        "plt.xlabel(\"Math Score\")\n",
        "plt.ylabel(\"Frequency\")\n",
        "plt.grid(axis=\"y\", linestyle=\"--\", alpha=0.7)\n",
        "plt.show()\n",
        "\n",
        "df[\"Total\"] = df[[\"Math\", \"Science\", \"English\"]].sum(axis=1)\n",
        "\n",
        "plt.figure(figsize=(7,5))\n",
        "plt.boxplot(df[\"Total\"], vert=True, patch_artist=True)\n",
        "plt.title(\"Boxplot of Total Scores\")\n",
        "plt.ylabel(\"Total Score\")\n",
        "plt.grid(axis=\"y\", linestyle=\"--\", alpha=0.7)\n",
        "plt.show()\n",
        "\n",
        "Q1 = df[\"Total\"].quantile(0.25)\n",
        "Q3 = df[\"Total\"].quantile(0.75)\n",
        "IQR = Q3 - Q1\n",
        "\n",
        "lower_bound = Q1 - 1.5 * IQR\n",
        "upper_bound = Q3 + 1.5 * IQR\n",
        "\n",
        "outliers = df[(df[\"Total\"] < lower_bound) | (df[\"Total\"] > upper_bound)]\n",
        "\n",
        "print(\"Outlier Students in Total Score:\\n\", outliers[[\"ID\", \"Total\", \"Grade\"]])\n",
        "\n",
        "summary = df.groupby(\"Grade\")[\"Total\"].mean().sort_values(ascending=False)\n",
        "print(\"\\nAverage Total Score by Grade:\\n\", summary)\n"
      ]
    },
    {
      "cell_type": "markdown",
      "metadata": {},
      "source": [
        "**ACTIVITY 3**"
      ]
    },
    {
      "cell_type": "code",
      "execution_count": 5,
      "metadata": {},
      "outputs": [
        {
          "data": {
            "text/html": [
              "<div>\n",
              "<style scoped>\n",
              "    .dataframe tbody tr th:only-of-type {\n",
              "        vertical-align: middle;\n",
              "    }\n",
              "\n",
              "    .dataframe tbody tr th {\n",
              "        vertical-align: top;\n",
              "    }\n",
              "\n",
              "    .dataframe thead th {\n",
              "        text-align: right;\n",
              "    }\n",
              "</style>\n",
              "<table border=\"1\" class=\"dataframe\">\n",
              "  <thead>\n",
              "    <tr style=\"text-align: right;\">\n",
              "      <th></th>\n",
              "      <th>Date</th>\n",
              "      <th>Country/Region</th>\n",
              "      <th>Province/State</th>\n",
              "      <th>Confirmed</th>\n",
              "      <th>Recovered</th>\n",
              "      <th>Deaths</th>\n",
              "    </tr>\n",
              "  </thead>\n",
              "  <tbody>\n",
              "    <tr>\n",
              "      <th>0</th>\n",
              "      <td>2020-01-22</td>\n",
              "      <td>Afghanistan</td>\n",
              "      <td>NaN</td>\n",
              "      <td>0</td>\n",
              "      <td>0.0</td>\n",
              "      <td>0</td>\n",
              "    </tr>\n",
              "    <tr>\n",
              "      <th>1</th>\n",
              "      <td>2020-01-23</td>\n",
              "      <td>Afghanistan</td>\n",
              "      <td>NaN</td>\n",
              "      <td>0</td>\n",
              "      <td>0.0</td>\n",
              "      <td>0</td>\n",
              "    </tr>\n",
              "    <tr>\n",
              "      <th>2</th>\n",
              "      <td>2020-01-24</td>\n",
              "      <td>Afghanistan</td>\n",
              "      <td>NaN</td>\n",
              "      <td>0</td>\n",
              "      <td>0.0</td>\n",
              "      <td>0</td>\n",
              "    </tr>\n",
              "    <tr>\n",
              "      <th>3</th>\n",
              "      <td>2020-01-25</td>\n",
              "      <td>Afghanistan</td>\n",
              "      <td>NaN</td>\n",
              "      <td>0</td>\n",
              "      <td>0.0</td>\n",
              "      <td>0</td>\n",
              "    </tr>\n",
              "    <tr>\n",
              "      <th>4</th>\n",
              "      <td>2020-01-26</td>\n",
              "      <td>Afghanistan</td>\n",
              "      <td>NaN</td>\n",
              "      <td>0</td>\n",
              "      <td>0.0</td>\n",
              "      <td>0</td>\n",
              "    </tr>\n",
              "  </tbody>\n",
              "</table>\n",
              "</div>"
            ],
            "text/plain": [
              "         Date Country/Region Province/State  Confirmed  Recovered  Deaths\n",
              "0  2020-01-22    Afghanistan            NaN          0        0.0       0\n",
              "1  2020-01-23    Afghanistan            NaN          0        0.0       0\n",
              "2  2020-01-24    Afghanistan            NaN          0        0.0       0\n",
              "3  2020-01-25    Afghanistan            NaN          0        0.0       0\n",
              "4  2020-01-26    Afghanistan            NaN          0        0.0       0"
            ]
          },
          "execution_count": 5,
          "metadata": {},
          "output_type": "execute_result"
        }
      ],
      "source": [
        "import pandas as pd\n",
        "import numpy as np\n",
        "\n",
        "url = \"https://raw.githubusercontent.com/datasets/covid-19/master/data/time-series-19-covid-combined.csv\"\n",
        "df1 = pd.read_csv(url)\n",
        "df1.head()"
      ]
    },
    {
      "cell_type": "code",
      "execution_count": 6,
      "metadata": {},
      "outputs": [
        {
          "data": {
            "text/plain": [
              "Date                   0\n",
              "Country/Region         0\n",
              "Province/State    159120\n",
              "Confirmed              0\n",
              "Recovered          13056\n",
              "Deaths                 0\n",
              "dtype: int64"
            ]
          },
          "execution_count": 6,
          "metadata": {},
          "output_type": "execute_result"
        }
      ],
      "source": [
        "df1.isnull().sum()"
      ]
    },
    {
      "cell_type": "code",
      "execution_count": null,
      "metadata": {},
      "outputs": [],
      "source": []
    },
    {
      "cell_type": "code",
      "execution_count": 9,
      "metadata": {},
      "outputs": [
        {
          "data": {
            "text/html": [
              "<div>\n",
              "<style scoped>\n",
              "    .dataframe tbody tr th:only-of-type {\n",
              "        vertical-align: middle;\n",
              "    }\n",
              "\n",
              "    .dataframe tbody tr th {\n",
              "        vertical-align: top;\n",
              "    }\n",
              "\n",
              "    .dataframe thead th {\n",
              "        text-align: right;\n",
              "    }\n",
              "</style>\n",
              "<table border=\"1\" class=\"dataframe\">\n",
              "  <thead>\n",
              "    <tr style=\"text-align: right;\">\n",
              "      <th></th>\n",
              "      <th>Date</th>\n",
              "      <th>Country/Region</th>\n",
              "      <th>Province/State</th>\n",
              "      <th>Confirmed</th>\n",
              "      <th>Recovered</th>\n",
              "      <th>Deaths</th>\n",
              "    </tr>\n",
              "  </thead>\n",
              "  <tbody>\n",
              "    <tr>\n",
              "      <th>168912</th>\n",
              "      <td>2020-01-22</td>\n",
              "      <td>Pakistan</td>\n",
              "      <td>NaN</td>\n",
              "      <td>0</td>\n",
              "      <td>0.0</td>\n",
              "      <td>0</td>\n",
              "    </tr>\n",
              "    <tr>\n",
              "      <th>168913</th>\n",
              "      <td>2020-01-23</td>\n",
              "      <td>Pakistan</td>\n",
              "      <td>NaN</td>\n",
              "      <td>0</td>\n",
              "      <td>0.0</td>\n",
              "      <td>0</td>\n",
              "    </tr>\n",
              "    <tr>\n",
              "      <th>168914</th>\n",
              "      <td>2020-01-24</td>\n",
              "      <td>Pakistan</td>\n",
              "      <td>NaN</td>\n",
              "      <td>0</td>\n",
              "      <td>0.0</td>\n",
              "      <td>0</td>\n",
              "    </tr>\n",
              "    <tr>\n",
              "      <th>168915</th>\n",
              "      <td>2020-01-25</td>\n",
              "      <td>Pakistan</td>\n",
              "      <td>NaN</td>\n",
              "      <td>0</td>\n",
              "      <td>0.0</td>\n",
              "      <td>0</td>\n",
              "    </tr>\n",
              "    <tr>\n",
              "      <th>168916</th>\n",
              "      <td>2020-01-26</td>\n",
              "      <td>Pakistan</td>\n",
              "      <td>NaN</td>\n",
              "      <td>0</td>\n",
              "      <td>0.0</td>\n",
              "      <td>0</td>\n",
              "    </tr>\n",
              "    <tr>\n",
              "      <th>...</th>\n",
              "      <td>...</td>\n",
              "      <td>...</td>\n",
              "      <td>...</td>\n",
              "      <td>...</td>\n",
              "      <td>...</td>\n",
              "      <td>...</td>\n",
              "    </tr>\n",
              "    <tr>\n",
              "      <th>169723</th>\n",
              "      <td>2022-04-12</td>\n",
              "      <td>Pakistan</td>\n",
              "      <td>NaN</td>\n",
              "      <td>1526829</td>\n",
              "      <td>0.0</td>\n",
              "      <td>30362</td>\n",
              "    </tr>\n",
              "    <tr>\n",
              "      <th>169724</th>\n",
              "      <td>2022-04-13</td>\n",
              "      <td>Pakistan</td>\n",
              "      <td>NaN</td>\n",
              "      <td>1526952</td>\n",
              "      <td>0.0</td>\n",
              "      <td>30362</td>\n",
              "    </tr>\n",
              "    <tr>\n",
              "      <th>169725</th>\n",
              "      <td>2022-04-14</td>\n",
              "      <td>Pakistan</td>\n",
              "      <td>NaN</td>\n",
              "      <td>1526952</td>\n",
              "      <td>0.0</td>\n",
              "      <td>30362</td>\n",
              "    </tr>\n",
              "    <tr>\n",
              "      <th>169726</th>\n",
              "      <td>2022-04-15</td>\n",
              "      <td>Pakistan</td>\n",
              "      <td>NaN</td>\n",
              "      <td>1527151</td>\n",
              "      <td>0.0</td>\n",
              "      <td>30363</td>\n",
              "    </tr>\n",
              "    <tr>\n",
              "      <th>169727</th>\n",
              "      <td>2022-04-16</td>\n",
              "      <td>Pakistan</td>\n",
              "      <td>NaN</td>\n",
              "      <td>1527248</td>\n",
              "      <td>0.0</td>\n",
              "      <td>30363</td>\n",
              "    </tr>\n",
              "  </tbody>\n",
              "</table>\n",
              "<p>816 rows × 6 columns</p>\n",
              "</div>"
            ],
            "text/plain": [
              "              Date Country/Region Province/State  Confirmed  Recovered  Deaths\n",
              "168912  2020-01-22       Pakistan            NaN          0        0.0       0\n",
              "168913  2020-01-23       Pakistan            NaN          0        0.0       0\n",
              "168914  2020-01-24       Pakistan            NaN          0        0.0       0\n",
              "168915  2020-01-25       Pakistan            NaN          0        0.0       0\n",
              "168916  2020-01-26       Pakistan            NaN          0        0.0       0\n",
              "...            ...            ...            ...        ...        ...     ...\n",
              "169723  2022-04-12       Pakistan            NaN    1526829        0.0   30362\n",
              "169724  2022-04-13       Pakistan            NaN    1526952        0.0   30362\n",
              "169725  2022-04-14       Pakistan            NaN    1526952        0.0   30362\n",
              "169726  2022-04-15       Pakistan            NaN    1527151        0.0   30363\n",
              "169727  2022-04-16       Pakistan            NaN    1527248        0.0   30363\n",
              "\n",
              "[816 rows x 6 columns]"
            ]
          },
          "execution_count": 9,
          "metadata": {},
          "output_type": "execute_result"
        }
      ],
      "source": [
        "Pakistan_data=df1[df1[\"Country/Region\"]==\"Pakistan\"].copy()\n",
        "Pakistan_data"
      ]
    },
    {
      "cell_type": "code",
      "execution_count": 11,
      "metadata": {},
      "outputs": [],
      "source": [
        "df1.dropna(inplace=True)"
      ]
    },
    {
      "cell_type": "code",
      "execution_count": 12,
      "metadata": {},
      "outputs": [
        {
          "data": {
            "image/png": "[encoded data removed]",
            "text/plain": [
              "<Figure size 1000x600 with 1 Axes>"
            ]
          },
          "metadata": {},
          "output_type": "display_data"
        }
      ],
      "source": [
        "plt.figure(figsize=(10,6))\n",
        "plt.plot(Pakistan_data[\"Date\"], Pakistan_data[\"Confirmed\"], marker='o', color=\"purple\", label=\"Confirmed Cases\")\n",
        "plt.xticks(rotation=45)\n",
        "plt.xlabel(\"Date\")\n",
        "plt.ylabel(\"Confirmed Cases\")\n",
        "plt.title(\"COVID-19 Confirmed Cases in Pakistan Over Time\")\n",
        "plt.legend()\n",
        "plt.grid(True, linestyle=\"--\", alpha=0.7)\n",
        "plt.show()"
      ]
    },
    {
      "cell_type": "markdown",
      "metadata": {},
      "source": [
        "**ACTIVITY 5**"
      ]
    },
    {
      "cell_type": "code",
      "execution_count": 13,
      "metadata": {},
      "outputs": [
        {
          "name": "stdout",
          "output_type": "stream",
          "text": [
            "Original Data:\n",
            "       Name   Age     Salary Department\n",
            "0    Ahsan  25.0    50000.0         IT\n",
            "1     Hira  27.0        NaN    Finance\n",
            "2    Bilal  35.0    75000.0         IT\n",
            "3     Zara  29.0  2000000.0         HR\n",
            "4   Salman   NaN    60000.0    Finance\n",
            "5  Mahnoor  40.0    90000.0         IT\n"
          ]
        }
      ],
      "source": [
        "import pandas as pd\n",
        "import matplotlib.pyplot as plt\n",
        "from sklearn.preprocessing import LabelEncoder\n",
        "data = {\n",
        "    \"Name\": [\"Ahsan\", \"Hira\", \"Bilal\", \"Zara\", \"Salman\", \"Mahnoor\"],\n",
        "    \"Age\": [25, 27, 35, 29, None, 40],\n",
        "    \"Salary\": [50000, None, 75000, 2000000, 60000, 90000],\n",
        "    \"Department\": [\"IT\", \"Finance\", \"IT\", \"HR\", \"Finance\", \"IT\"]\n",
        "}\n",
        "df = pd.DataFrame(data)\n",
        "print(\"Original Data:\\n\", df)\n"
      ]
    },
    {
      "cell_type": "code",
      "execution_count": 14,
      "metadata": {},
      "outputs": [
        {
          "name": "stdout",
          "output_type": "stream",
          "text": [
            "\n",
            "After Handling Missing Values:\n",
            "       Name   Age     Salary Department\n",
            "0    Ahsan  25.0    50000.0         IT\n",
            "1     Hira  27.0   455000.0    Finance\n",
            "2    Bilal  35.0    75000.0         IT\n",
            "3     Zara  29.0  2000000.0         HR\n",
            "4   Salman  29.0    60000.0    Finance\n",
            "5  Mahnoor  40.0    90000.0         IT\n"
          ]
        },
        {
          "name": "stderr",
          "output_type": "stream",
          "text": [
            "C:\\Users\\PMLS\\AppData\\Local\\Temp\\ipykernel_14632\\2815608166.py:1: FutureWarning: A value is trying to be set on a copy of a DataFrame or Series through chained assignment using an inplace method.\n",
            "The behavior will change in pandas 3.0. This inplace method will never work because the intermediate object on which we are setting values always behaves as a copy.\n",
            "\n",
            "For example, when doing 'df[col].method(value, inplace=True)', try using 'df.method({col: value}, inplace=True)' or df[col] = df[col].method(value) instead, to perform the operation inplace on the original object.\n",
            "\n",
            "\n",
            "  df[\"Age\"].fillna(df[\"Age\"].median(), inplace=True)\n",
            "C:\\Users\\PMLS\\AppData\\Local\\Temp\\ipykernel_14632\\2815608166.py:2: FutureWarning: A value is trying to be set on a copy of a DataFrame or Series through chained assignment using an inplace method.\n",
            "The behavior will change in pandas 3.0. This inplace method will never work because the intermediate object on which we are setting values always behaves as a copy.\n",
            "\n",
            "For example, when doing 'df[col].method(value, inplace=True)', try using 'df.method({col: value}, inplace=True)' or df[col] = df[col].method(value) instead, to perform the operation inplace on the original object.\n",
            "\n",
            "\n",
            "  df[\"Salary\"].fillna(df[\"Salary\"].mean(), inplace=True)\n"
          ]
        }
      ],
      "source": [
        "df[\"Age\"].fillna(df[\"Age\"].median(), inplace=True)       \n",
        "df[\"Salary\"].fillna(df[\"Salary\"].mean(), inplace=True)   \n",
        "print(\"\\nAfter Handling Missing Values:\\n\", df)"
      ]
    },
    {
      "cell_type": "code",
      "execution_count": 15,
      "metadata": {},
      "outputs": [
        {
          "name": "stdout",
          "output_type": "stream",
          "text": [
            "\n",
            "Encoded Department:\n",
            "   Department  Department_encoded\n",
            "0         IT                   2\n",
            "1    Finance                   0\n",
            "2         IT                   2\n",
            "3         HR                   1\n",
            "4    Finance                   0\n",
            "5         IT                   2\n"
          ]
        }
      ],
      "source": [
        "le = LabelEncoder()\n",
        "df[\"Department_encoded\"] = le.fit_transform(df[\"Department\"])\n",
        "print(\"\\nEncoded Department:\\n\", df[[\"Department\", \"Department_encoded\"]])"
      ]
    },
    {
      "cell_type": "code",
      "execution_count": 16,
      "metadata": {},
      "outputs": [
        {
          "data": {
            "image/png": "[encoded data removed]",
            "text/plain": [
              "<Figure size 600x500 with 1 Axes>"
            ]
          },
          "metadata": {},
          "output_type": "display_data"
        }
      ],
      "source": [
        "plt.figure(figsize=(6,5))\n",
        "plt.boxplot(df[\"Salary\"], patch_artist=True)\n",
        "plt.title(\"Boxplot of Salaries\")\n",
        "plt.ylabel(\"Salary\")\n",
        "plt.grid(axis=\"y\",  alpha=0.9)\n",
        "plt.show()"
      ]
    },
    {
      "cell_type": "code",
      "execution_count": 17,
      "metadata": {},
      "outputs": [
        {
          "name": "stdout",
          "output_type": "stream",
          "text": [
            "\n",
            "Outliers Detected:\n",
            "    Name   Age     Salary Department  Department_encoded\n",
            "3  Zara  29.0  2000000.0         HR                   1\n"
          ]
        }
      ],
      "source": [
        "Q1 = df[\"Salary\"].quantile(0.25)\n",
        "Q3 = df[\"Salary\"].quantile(0.75)\n",
        "IQR = Q3 - Q1\n",
        "\n",
        "lower_bound = Q1 - 1.5 * IQR\n",
        "upper_bound = Q3 + 1.5 * IQR\n",
        "\n",
        "outliers = df[(df[\"Salary\"] < lower_bound) | (df[\"Salary\"] > upper_bound)]\n",
        "print(\"\\nOutliers Detected:\\n\", outliers)"
      ]
    },
    {
      "cell_type": "code",
      "execution_count": null,
      "metadata": {},
      "outputs": [],
      "source": []
    }
  ],
  "metadata": {
    "colab": {
      "provenance": []
    },
    "kernelspec": {
      "display_name": "Python 3",
      "name": "python3"
    },
    "language_info": {
      "codemirror_mode": {
        "name": "ipython",
        "version": 3
      },
      "file_extension": ".py",
      "mimetype": "text/x-python",
      "name": "python",
      "nbconvert_exporter": "python",
      "pygments_lexer": "ipython3",
      "version": "3.13.7"
    }
  },
  "nbformat": 4,
  "nbformat_minor": 0
}
